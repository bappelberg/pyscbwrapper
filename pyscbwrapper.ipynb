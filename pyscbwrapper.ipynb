{
 "nbformat": 4,
 "nbformat_minor": 0,
 "metadata": {
  "colab": {
   "name": "pyscbwrapper.ipynb",
   "version": "0.3.2",
   "provenance": [],
   "collapsed_sections": [],
   "include_colab_link": true
  },
  "kernelspec": {
   "name": "python3",
   "display_name": "Python 3"
  }
 },
 "cells": [
  {
   "cell_type": "markdown",
   "metadata": {
    "id": "view-in-github",
    "colab_type": "text"
   },
   "source": [
    "<a href=\"https://colab.research.google.com/github/kirajcg/pyscbwrapper/blob/master/pyscbwrapper.ipynb\" target=\"_parent\"><img src=\"https://colab.research.google.com/assets/colab-badge.svg\" alt=\"Open In Colab\"/></a>"
   ]
  },
  {
   "metadata": {
    "id": "va1gxHmdk_BF",
    "colab_type": "text"
   },
   "cell_type": "markdown",
   "source": [
    "# Inledning"
   ]
  },
  {
   "metadata": {
    "id": "CnlRg-XwlDtd",
    "colab_type": "text"
   },
   "cell_type": "markdown",
   "source": [
    "Vi vill konstruera en graf över invånartätheten i varje län i Sverige över tid. Till vår hjälp har vi SCB:s data och Python, och vår målsättning är att inte lämna Pythonmiljön ens för att hämta datan. Lyckligtvis finns det ett särskilt utvecklat paket för detta ändamål, kallat pyscbwrapper. "
   ]
  },
  {
   "metadata": {
    "id": "8OsouNVGRyAY",
    "colab_type": "text"
   },
   "cell_type": "markdown",
   "source": [
    "# Installation"
   ]
  },
  {
   "metadata": {
    "id": "wuvWj0t8PBgU",
    "colab_type": "text"
   },
   "cell_type": "markdown",
   "source": [
    "pyscbwrapper är ett slags gränssnitt till Statistikdatabasen, skrivet i Python 3. För att köra detta gränssnitt behöver vi först installera och importera det. (Om du inte har tillgång till Python så kan du köra det via Colab genom att klicka på knappen ovan.)"
   ]
  },
  {
   "metadata": {
    "id": "ZYGzbK0yPFQ6",
    "colab_type": "code",
    "colab": {}
   },
   "cell_type": "code",
   "source": [
    "!pip install -q pyscbwrapper\n",
    "from pyscbwrapper import SCB"
   ],
   "execution_count": 0,
   "outputs": []
  },
  {
   "metadata": {
    "id": "KJ95Mz5ZR54O",
    "colab_type": "text"
   },
   "cell_type": "markdown",
   "source": [
    "# Initiering"
   ]
  },
  {
   "metadata": {
    "id": "lVc42ouPPfpd",
    "colab_type": "text"
   },
   "cell_type": "markdown",
   "source": [
    "SCB är nu en klass vi har importerat, som innehåller funktioner för att navigera i Statistikdatabasen och hämta både metadata och data från den. För att använda SCB-klassen behöver vi först initiera ett objekt från den. Då behövs ett obligatoriskt argument: språk för datan och metadatan. Engelska och svenska stöds. Vi väljer svenska: "
   ]
  },
  {
   "metadata": {
    "id": "o6TVUjq-Pnzu",
    "colab_type": "code",
    "colab": {}
   },
   "cell_type": "code",
   "source": [
    "scb = SCB('sv')"
   ],
   "execution_count": 0,
   "outputs": []
  },
  {
   "metadata": {
    "id": "n5ZmYMkpR8wd",
    "colab_type": "text"
   },
   "cell_type": "markdown",
   "source": [
    "# Navigering och metadata"
   ]
  },
  {
   "metadata": {
    "id": "haLTV0PrQBEE",
    "colab_type": "text"
   },
   "cell_type": "markdown",
   "source": [
    "Nu kan vi titta på toppnoden i det träd som är Statistikdatabasens metadata: "
   ]
  },
  {
   "metadata": {
    "id": "HyrSZ-Z_RFEN",
    "colab_type": "code",
    "outputId": "d8c02985-8436-4387-a939-1e64a45895ca",
    "colab": {
     "base_uri": "https://localhost:8080/",
     "height": 395
    }
   },
   "cell_type": "code",
   "source": [
    "scb.info()"
   ],
   "execution_count": 0,
   "outputs": []
  },
  {
   "metadata": {
    "id": "xQmiT-H1RJw9",
    "colab_type": "text"
   },
   "cell_type": "markdown",
   "source": [
    "Vi kan nu gå ned i trädet med hjälp av id-taggen i metadatan vi fick ut. Säg att vi är intresserade av befolkningsstatistiken: "
   ]
  },
  {
   "metadata": {
    "id": "h8KkMIGjQCFj",
    "colab_type": "code",
    "colab": {}
   },
   "cell_type": "code",
   "source": [
    "scb.go_down('BE')"
   ],
   "execution_count": 0,
   "outputs": []
  },
  {
   "metadata": {
    "id": "CFtjJLmwQI7D",
    "colab_type": "text"
   },
   "cell_type": "markdown",
   "source": [
    "För att nu få fram metadata om befolkningsstatistiken kör vi återigen funktionen info():"
   ]
  },
  {
   "metadata": {
    "id": "kNgjhvyAQGU8",
    "colab_type": "code",
    "outputId": "5e6dcca2-86f6-4c05-a943-77cbb2a21073",
    "colab": {
     "base_uri": "https://localhost:8080/",
     "height": 143
    }
   },
   "cell_type": "code",
   "source": [
    "scb.info()"
   ],
   "execution_count": 0,
   "outputs": []
  },
  {
   "metadata": {
    "id": "O6ywgfC2S5Ju",
    "colab_type": "text"
   },
   "cell_type": "markdown",
   "source": [
    "Vi kan fortsätta gå ned i trädet: "
   ]
  },
  {
   "metadata": {
    "id": "Pwb2Zl9lS7l_",
    "colab_type": "code",
    "outputId": "2ea11ec2-002f-4b9c-f07b-8e5ba3a454e1",
    "colab": {
     "base_uri": "https://localhost:8080/",
     "height": 53
    }
   },
   "cell_type": "code",
   "source": [
    "scb.go_down('BE0001')\n",
    "scb.info()"
   ],
   "execution_count": 0,
   "outputs": []
  },
  {
   "metadata": {
    "id": "XlhEs7ZzTAce",
    "colab_type": "text"
   },
   "cell_type": "markdown",
   "source": [
    "Oops! Vi ville inte titta på namnstatistiken utan befolkningsstatistiken. Vi går upp ett steg igen och vidare ned till rätt nod: "
   ]
  },
  {
   "metadata": {
    "id": "3ESMKrs0TX1u",
    "colab_type": "code",
    "outputId": "13d0d3a2-5f76-41ff-fd73-7a854e918249",
    "colab": {
     "base_uri": "https://localhost:8080/",
     "height": 359
    }
   },
   "cell_type": "code",
   "source": [
    "scb.go_up()\n",
    "scb.go_down('BE0101')\n",
    "scb.info()"
   ],
   "execution_count": 0,
   "outputs": []
  },
  {
   "metadata": {
    "id": "u1uplOemT6dB",
    "colab_type": "text"
   },
   "cell_type": "markdown",
   "source": [
    "# Direktväg till specifika noder"
   ]
  },
  {
   "metadata": {
    "id": "QzXXWBFITanH",
    "colab_type": "text"
   },
   "cell_type": "markdown",
   "source": [
    "Om vi vet vart vi vill i trädet är det möjligt att initiera ett objekt med id-taggarna som extra variabler:"
   ]
  },
  {
   "metadata": {
    "id": "9jguJXCcTrWQ",
    "colab_type": "code",
    "outputId": "8f88d685-f216-421e-cae5-b146a0fa29a1",
    "colab": {
     "base_uri": "https://localhost:8080/",
     "height": 359
    }
   },
   "cell_type": "code",
   "source": [
    "scb = SCB('sv', 'BE', 'BE0101')\n",
    "scb.info()"
   ],
   "execution_count": 0,
   "outputs": []
  },
  {
   "metadata": {
    "id": "Dw-GxQQlTwQA",
    "colab_type": "text"
   },
   "cell_type": "markdown",
   "source": [
    "Som du ser hamnar vi direkt i befolkningsstatistiken.\n",
    "\n",
    "---\n",
    "\n",
    "\n",
    "Objektets specifika initiering hindrar oss dock inte från att navigera i trädet: "
   ]
  },
  {
   "metadata": {
    "id": "Ks_6hseiW2CL",
    "colab_type": "code",
    "outputId": "3c349b52-70b1-45e3-e8d9-c7459cdbb113",
    "colab": {
     "base_uri": "https://localhost:8080/",
     "height": 143
    }
   },
   "cell_type": "code",
   "source": [
    "scb.go_up()\n",
    "scb.info()"
   ],
   "execution_count": 0,
   "outputs": []
  },
  {
   "metadata": {
    "id": "a89QseBbeyIn",
    "colab_type": "text"
   },
   "cell_type": "markdown",
   "source": [
    "Hursomhelst, vi går tillbaka direkt till befolkningstäthet:"
   ]
  },
  {
   "metadata": {
    "id": "3VMWQ8rEe50_",
    "colab_type": "code",
    "outputId": "a8b19f15-c3ab-4fc3-925b-7d694517b827",
    "colab": {
     "base_uri": "https://localhost:8080/",
     "height": 89
    }
   },
   "cell_type": "code",
   "source": [
    "scb.go_down('BE0101', 'BE0101C')\n",
    "scb.info()"
   ],
   "execution_count": 0,
   "outputs": []
  },
  {
   "metadata": {
    "id": "9KwTQmUcDXwC",
    "colab_type": "text"
   },
   "cell_type": "markdown",
   "source": [
    "Nu finns det bara en nod att gå till så vi gör det: "
   ]
  },
  {
   "metadata": {
    "id": "VukEugEKDex8",
    "colab_type": "code",
    "outputId": "9a1bf328-c8ad-43ea-b629-8919f827adb4",
    "colab": {
     "base_uri": "https://localhost:8080/",
     "height": 12581
    }
   },
   "cell_type": "code",
   "source": [
    "scb.go_down('BefArealTathetKon')\n",
    "scb.info()"
   ],
   "execution_count": 0,
   "outputs": []
  },
  {
   "metadata": {
    "id": "tgofEk9yELFk",
    "colab_type": "text"
   },
   "cell_type": "markdown",
   "source": [
    "Notera hur metadatan skiljer sig åt från föregående noder: Nyckelordet variables finns, och detta indikerar att vi står i en slutnod. Härifrån kan vi därför hämta den faktiska datan. \n",
    "\n",
    "---\n",
    "\n",
    "Det är inte är nödvändigt att kalla info() efter varje go_down() men det är en bra idé att göra ändå, om man inte är väldigt säker på hur databasen ser ut. "
   ]
  },
  {
   "metadata": {
    "id": "MbhICJlAEuqy",
    "colab_type": "text"
   },
   "cell_type": "markdown",
   "source": [
    "# Hämta data"
   ]
  },
  {
   "metadata": {
    "id": "vLSmIRoAkNDh",
    "colab_type": "text"
   },
   "cell_type": "markdown",
   "source": [
    "Nu när vi är i en slutnod kan vi titta på vilka variabler som finns, och deras värdemängder: "
   ]
  },
  {
   "metadata": {
    "id": "BmRvq7UqkSMw",
    "colab_type": "code",
    "outputId": "de08fb64-fc47-4f5a-927a-1c17e63264b4",
    "colab": {
     "base_uri": "https://localhost:8080/",
     "height": 6209
    }
   },
   "cell_type": "code",
   "source": [
    "scb.get_variables()"
   ],
   "execution_count": 0,
   "outputs": []
  },
  {
   "metadata": {
    "id": "yuuDtuMpkWlH",
    "colab_type": "text"
   },
   "cell_type": "markdown",
   "source": [
    "När vi har dessa kan vi välja vad vi är intresserade av och skapa en jsonfråga. Säg att vi är intresserade av invånare per kvadratkilometer i Örebro län för de senaste fem åren. "
   ]
  },
  {
   "metadata": {
    "id": "bJ6Zcm3ikeHX",
    "colab_type": "code",
    "colab": {}
   },
   "cell_type": "code",
   "source": [
    "scb.set_query(region=[\"Örebro län\"], \n",
    "              tabellinnehåll=[\"Invånare per kvadratkilometer\"], \n",
    "              år=[\"2014\", \"2015\", \"2016\", \"2017\", \"2018\"])"
   ],
   "execution_count": 0,
   "outputs": []
  },
  {
   "metadata": {
    "id": "1sQ9vvLElAmZ",
    "colab_type": "text"
   },
   "cell_type": "markdown",
   "source": [
    "Nu kan vi kolla hur frågan ser ut: "
   ]
  },
  {
   "metadata": {
    "id": "czNaLMkik_25",
    "colab_type": "code",
    "outputId": "87d5141c-6cec-451b-f7f9-53bc33179580",
    "colab": {
     "base_uri": "https://localhost:8080/",
     "height": 161
    }
   },
   "cell_type": "code",
   "source": [
    "scb.get_query()"
   ],
   "execution_count": 0,
   "outputs": []
  },
  {
   "metadata": {
    "id": "SnSymy9_lOiq",
    "colab_type": "text"
   },
   "cell_type": "markdown",
   "source": [
    "Frågan blir automatiskt formaterad på rätt sätt för att hämta datan från API:et. Vi hämtar datan: "
   ]
  },
  {
   "metadata": {
    "id": "d4r0jNRPlW1b",
    "colab_type": "code",
    "outputId": "d93a2b6c-5a83-454d-9c5a-10c31f06758f",
    "colab": {
     "base_uri": "https://localhost:8080/",
     "height": 179
    }
   },
   "cell_type": "code",
   "source": [
    "scb.get_data()"
   ],
   "execution_count": 0,
   "outputs": []
  },
  {
   "metadata": {
    "id": "Y5RtDXhM8tFe",
    "colab_type": "text"
   },
   "cell_type": "markdown",
   "source": [
    "Detta är samma data som man kan hämta från Statistikdatabasen på hemsidan. Genom en funktion i pyscbwrapper kan vi få ut URL:en till sidan med datan: "
   ]
  },
  {
   "metadata": {
    "id": "YWqb_2al83C7",
    "colab_type": "code",
    "outputId": "b2eed02e-4001-44d5-84d8-7b7c7b03e5ff",
    "colab": {
     "base_uri": "https://localhost:8080/",
     "height": 35
    }
   },
   "cell_type": "code",
   "source": [
    "scb.get_url()"
   ],
   "execution_count": 0,
   "outputs": []
  },
  {
   "metadata": {
    "id": "rnl_2GHM8Bhx",
    "colab_type": "text"
   },
   "cell_type": "markdown",
   "source": [
    "Datan kan förstås också hämtas utan pyscbwrapper, genom att navigera till URL:en ovan. Där markerar vi \"Invånare per kvadratkilometer\", väljer indelning Län och markerar Örebro län, samt markerar de fem senaste åren. På nästa sida kan vi då klicka på \"API för denna tabell\" och få fram frågan och en URL att posta frågan till med hjälp av exempelvis paketet requests, men vi måste ändra \"format\": \"px\" till \"format\": \"json\". "
   ]
  },
  {
   "metadata": {
    "id": "em20LRw07x7z",
    "colab_type": "code",
    "outputId": "b7f6099a-6b24-48a0-bf04-ecaddf56f246",
    "colab": {
     "base_uri": "https://localhost:8080/",
     "height": 179
    }
   },
   "cell_type": "code",
   "source": [
    "import requests\n",
    "import json\n",
    "\n",
    "session = requests.Session()\n",
    "\n",
    "query = {\n",
    "  \"query\": [\n",
    "    {\n",
    "      \"code\": \"Region\",\n",
    "      \"selection\": {\n",
    "        \"filter\": \"vs:RegionLän99EjAggr\",\n",
    "        \"values\": [\n",
    "          \"18\"\n",
    "        ]\n",
    "      }\n",
    "    },\n",
    "    {\n",
    "      \"code\": \"ContentsCode\",\n",
    "      \"selection\": {\n",
    "        \"filter\": \"item\",\n",
    "        \"values\": [\n",
    "          \"BE0101U1\"\n",
    "        ]\n",
    "      }\n",
    "    },\n",
    "    {\n",
    "      \"code\": \"Tid\",\n",
    "      \"selection\": {\n",
    "        \"filter\": \"item\",\n",
    "        \"values\": [\n",
    "          \"2014\",\n",
    "          \"2015\",\n",
    "          \"2016\",\n",
    "          \"2017\",\n",
    "          \"2018\"\n",
    "        ]\n",
    "      }\n",
    "    }\n",
    "  ],\n",
    "  \"response\": {\n",
    "    \"format\": \"json\"\n",
    "  }\n",
    "}\n",
    "\n",
    "url = \"https://api.scb.se/OV0104/v1/doris/sv/ssd/START/BE/BE0101/BE0101C/BefArealTathetKon\"\n",
    "\n",
    "response = session.post(url, json=query)\n",
    "response_json = json.loads(response.content.decode('utf-8-sig'))\n",
    "\n",
    "response_json"
   ],
   "execution_count": 0,
   "outputs": []
  },
  {
   "metadata": {
    "id": "eQeGjyvs9Wly",
    "colab_type": "text"
   },
   "cell_type": "markdown",
   "source": [
    "Som du ser är det exakt samma data vi får ut. "
   ]
  },
  {
   "metadata": {
    "id": "RCWz_b0YXcOE",
    "colab_type": "text"
   },
   "cell_type": "markdown",
   "source": [
    "# Mer avancerade anrop"
   ]
  },
  {
   "metadata": {
    "id": "1vNhyuWrXlAU",
    "colab_type": "text"
   },
   "cell_type": "markdown",
   "source": [
    "Nu när vi har sett hur datan ser ut kan vi plocka fram mer av den för att göra intressanta grafer. Eftersom vi redan är på rätt plats i API-strukturen behöver vi bara skapa en ny fråga. Säg att vi vill ha data från alla år från alla län. Vi kan först ta ut en lista över alla regioner, filtrera ut länen med hjälp av reguljära uttryck, och därefter använda listan i jsonfrågan: "
   ]
  },
  {
   "metadata": {
    "id": "wTIDbKQpXjfj",
    "colab_type": "code",
    "colab": {}
   },
   "cell_type": "code",
   "source": [
    "import re\n",
    "\n",
    "regioner = scb.get_variables()['region']\n",
    "r = re.compile(r'.* län')\n",
    "lan = list(filter(r.match, regioner))\n",
    "\n",
    "scb.set_query(region=lan,\n",
    "              tabellinnehåll=[\"Invånare per kvadratkilometer\"])"
   ],
   "execution_count": 0,
   "outputs": []
  },
  {
   "metadata": {
    "id": "QGvN2EagYgBf",
    "colab_type": "code",
    "outputId": "23fbbec7-2a55-4df6-f8b8-c55ff7a5da92",
    "colab": {
     "base_uri": "https://localhost:8080/",
     "height": 485
    }
   },
   "cell_type": "code",
   "source": [
    "scb.get_query()"
   ],
   "execution_count": 0,
   "outputs": []
  },
  {
   "metadata": {
    "id": "IyMmI9_h8tpn",
    "colab_type": "text"
   },
   "cell_type": "markdown",
   "source": [
    "Det där är precis det frågan vi behöver nu. Vi tar ut datan och placerar den i en variabel så vi kan använda den senare: "
   ]
  },
  {
   "metadata": {
    "id": "oMRduzFwYjED",
    "colab_type": "code",
    "colab": {}
   },
   "cell_type": "code",
   "source": [
    "scb_data = scb.get_data()"
   ],
   "execution_count": 0,
   "outputs": []
  },
  {
   "metadata": {
    "id": "mvT224ir849w",
    "colab_type": "text"
   },
   "cell_type": "markdown",
   "source": [
    "I god sed tittar vi på datan innan vi gör någonting mer: "
   ]
  },
  {
   "metadata": {
    "id": "euIRGaDK89eI",
    "colab_type": "code",
    "outputId": "333d7e75-4a11-45db-8a34-6438adc2667d",
    "colab": {
     "base_uri": "https://localhost:8080/",
     "height": 10763
    }
   },
   "cell_type": "code",
   "source": [
    "scb_data"
   ],
   "execution_count": 0,
   "outputs": []
  },
  {
   "metadata": {
    "id": "8x4RzrTb9_Pb",
    "colab_type": "text"
   },
   "cell_type": "markdown",
   "source": [
    "Själva datan vi söker ligger nu här: "
   ]
  },
  {
   "metadata": {
    "id": "yObUQkJ1-BsK",
    "colab_type": "code",
    "colab": {}
   },
   "cell_type": "code",
   "source": [
    "scb_uttag = scb_data['data']"
   ],
   "execution_count": 0,
   "outputs": []
  },
  {
   "metadata": {
    "id": "CtfDWCaC-cbz",
    "colab_type": "text"
   },
   "cell_type": "markdown",
   "source": [
    "Än en gång kontrollerar vi att vi har fått fram rätt data: "
   ]
  },
  {
   "metadata": {
    "id": "twVrYqVy-gsW",
    "colab_type": "code",
    "outputId": "b1070e46-169c-41cc-fcbe-e38c03dee3cf",
    "colab": {
     "base_uri": "https://localhost:8080/",
     "height": 10601
    }
   },
   "cell_type": "code",
   "source": [
    "scb_uttag"
   ],
   "execution_count": 0,
   "outputs": []
  },
  {
   "metadata": {
    "id": "cm3g_49v-lZB",
    "colab_type": "text"
   },
   "cell_type": "markdown",
   "source": [
    "Nu behöver vi förstå strukturen på datan. Vi har fått ut en lista av dictionaries där den första variabeln key innehåller domänen (i detta fall län och år), och variabeln values innehåller värdet på undersökningsvariabeln (i detta fall invånare per kvadratkilometer). För att omforma detta till tidsserier som kan användas för visualisering krävs en del syntaktiska trick som beskrivs nedan. "
   ]
  },
  {
   "metadata": {
    "id": "rM3UQ9Oe_Z3f",
    "colab_type": "text"
   },
   "cell_type": "markdown",
   "source": [
    "# Bearbetning av data"
   ]
  },
  {
   "metadata": {
    "id": "FtZYcbB-ARn1",
    "colab_type": "text"
   },
   "cell_type": "markdown",
   "source": [
    "Vad vi söker är en tidsserie per län. Vi behöver därför strukturera om datan vi har fått ut innan vi kan göra någonting. Detta är utanför funktionaliteten hos pyscbwrapper, men vi kan lösa det med smidighet. En bra struktur vore en dictionary med län som nyckel och en annan dictionary som värde, där den inre dictionarien har år som nyckel och variabelvärde som värde. För detta tar vi fram listan över län som vi skapade tidigare och kopplar dem mot länkoderna, som vi kan plocka från dess plats i get_query(), i vårt fall 0. Genom att jämföra dessa koder, som är kopplade mot länsnamnen, med koderna i datan kan vi koppla länsnamnen mot datan. \n",
    "\n",
    "På så vis skapar vi strukturen vi vill ha, och passar på att göra värdena till numeriska. "
   ]
  },
  {
   "metadata": {
    "id": "AuPqzGOl_ZDM",
    "colab_type": "code",
    "colab": {}
   },
   "cell_type": "code",
   "source": [
    "koder = scb.get_query()['query'][0]['selection']['values']\n",
    "\n",
    "landic = {}\n",
    "for i in range(len(koder)):\n",
    "  landic[koder[i]] = lan[i]\n",
    "\n",
    "\n",
    "landata = {}\n",
    "\n",
    "for kod in landic:\n",
    "  landata[landic[kod]] = {}\n",
    "  for i in range(len(scb_uttag)):\n",
    "    if scb_uttag[i]['key'][0] == kod:\n",
    "      landata[landic[kod]][scb_uttag[i]['key'][1]] = \\\n",
    "      float(scb_uttag[i]['values'][0])\n"
   ],
   "execution_count": 0,
   "outputs": []
  },
  {
   "metadata": {
    "id": "QUn5LPlLFs1H",
    "colab_type": "text"
   },
   "cell_type": "markdown",
   "source": [
    "Det här blev ganska hackigt, så låt oss se om vad vi fick ut har den struktur vi sökte: "
   ]
  },
  {
   "metadata": {
    "id": "9ihNQozVFufv",
    "colab_type": "code",
    "outputId": "ade54b88-5c77-419b-ace6-aa654bac0541",
    "colab": {
     "base_uri": "https://localhost:8080/",
     "height": 10601
    }
   },
   "cell_type": "code",
   "source": [
    "landata"
   ],
   "execution_count": 0,
   "outputs": []
  },
  {
   "metadata": {
    "id": "xTL1IbH0FyPm",
    "colab_type": "text"
   },
   "cell_type": "markdown",
   "source": [
    "Det ser ju rätt ut. Nu kan vi loopa över nycklarna och plotta värdena med nyckel på x-axeln och värde på y-axeln. "
   ]
  },
  {
   "metadata": {
    "id": "R_1L440QF7tG",
    "colab_type": "text"
   },
   "cell_type": "markdown",
   "source": [
    "# Visualisering av data"
   ]
  },
  {
   "metadata": {
    "id": "V-ijYiU_F-6-",
    "colab_type": "text"
   },
   "cell_type": "markdown",
   "source": [
    "Vi behöver numpy, pandas och matplotlib för detta. Vi installerar och importerar. "
   ]
  },
  {
   "metadata": {
    "id": "K-fvRDuhGEF3",
    "colab_type": "code",
    "colab": {}
   },
   "cell_type": "code",
   "source": [
    "!pip install -q matplotlib\n",
    "!pip install -q pandas\n",
    "!pip install -q numpy\n",
    "\n",
    "import numpy as np\n",
    "import pandas as pd\n",
    "from matplotlib import pyplot as plt"
   ],
   "execution_count": 0,
   "outputs": []
  },
  {
   "metadata": {
    "id": "rQHNYnXlUW9W",
    "colab_type": "text"
   },
   "cell_type": "markdown",
   "source": [
    "Nu kan vi ta fram en trevlig graf."
   ]
  },
  {
   "metadata": {
    "id": "m4WnrQmyUWF6",
    "colab_type": "code",
    "outputId": "c1eee7d9-5c28-4a58-80e0-d11a135b1b5d",
    "colab": {
     "base_uri": "https://localhost:8080/",
     "height": 389
    }
   },
   "cell_type": "code",
   "source": [
    "df = pd.DataFrame(landata)\n",
    "df = df.reset_index()\n",
    "df = df.rename(columns={\"index\":\"År\"})\n",
    "ax = df.plot(x=df.index, xticks=np.arange(len(df.index)), colormap='hsv')\n",
    "ax.set_xticklabels(df[\"År\"], rotation=45)\n",
    "plt.title(\"Befolkningstäthet per län\")\n",
    "plt.xlabel(\"År\")\n",
    "plt.ylabel(\"Invånare per kvadratkilometer\")\n",
    "plt.legend(loc='center left', bbox_to_anchor=(1.0, 0.5))\n",
    "plt.show()"
   ],
   "execution_count": 0,
   "outputs": []
  },
  {
   "metadata": {
    "id": "Ha83UCMSUWhe",
    "colab_type": "text"
   },
   "cell_type": "markdown",
   "source": [
    "Nu har vi vad vi ville, och vi lämnade aldrig Pythonmiljön!"
   ]
  }
 ]
}
